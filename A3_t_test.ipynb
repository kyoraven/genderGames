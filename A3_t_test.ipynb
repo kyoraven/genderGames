{
  "nbformat": 4,
  "nbformat_minor": 0,
  "metadata": {
    "colab": {
      "provenance": [],
      "authorship_tag": "ABX9TyOZEXr0xwbobxk8u68wz6uv",
      "include_colab_link": true
    },
    "kernelspec": {
      "name": "python3",
      "display_name": "Python 3"
    },
    "language_info": {
      "name": "python"
    }
  },
  "cells": [
    {
      "cell_type": "markdown",
      "metadata": {
        "id": "view-in-github",
        "colab_type": "text"
      },
      "source": [
        "<a href=\"https://colab.research.google.com/github/kyoraven/genderGames/blob/code/A3_t_test.ipynb\" target=\"_parent\"><img src=\"https://colab.research.google.com/assets/colab-badge.svg\" alt=\"Open In Colab\"/></a>"
      ]
    },
    {
      "cell_type": "code",
      "execution_count": null,
      "metadata": {
        "id": "zsgOcKOkWYvV"
      },
      "outputs": [],
      "source": [
        "import numpy as np\n",
        "from scipy import stats"
      ]
    },
    {
      "cell_type": "code",
      "source": [
        "import pandas as pd"
      ],
      "metadata": {
        "id": "lTuDCAa4XxDK"
      },
      "execution_count": null,
      "outputs": []
    },
    {
      "cell_type": "code",
      "source": [
        "data = pd.read_csv('genderPCgames_pythontest_v1.csv')"
      ],
      "metadata": {
        "id": "ugXmeGPOXyz1"
      },
      "execution_count": null,
      "outputs": []
    },
    {
      "cell_type": "code",
      "source": [
        "female_dialogue = data['wordsSUM_female']\n",
        "male_dialogue = data['wordsSUM_male']"
      ],
      "metadata": {
        "id": "Hra4SfNOYbgF"
      },
      "execution_count": null,
      "outputs": []
    },
    {
      "cell_type": "code",
      "source": [
        "t_statistic, p_value = stats.ttest_ind(female_dialogue, male_dialogue)"
      ],
      "metadata": {
        "id": "QrAtphzdYeiv"
      },
      "execution_count": null,
      "outputs": []
    },
    {
      "cell_type": "code",
      "source": [
        "print(\"t-statistic:\", t_statistic)\n",
        "print(\"p-value:\", p_value)"
      ],
      "metadata": {
        "colab": {
          "base_uri": "https://localhost:8080/"
        },
        "id": "BH2BHBMgYi8g",
        "outputId": "0da3719d-9d78-4109-d718-ffb34bf68a5a"
      },
      "execution_count": null,
      "outputs": [
        {
          "output_type": "stream",
          "name": "stdout",
          "text": [
            "t-statistic: nan\n",
            "p-value: nan\n"
          ]
        }
      ]
    },
    {
      "cell_type": "code",
      "source": [
        "female_dialogue = data['wordsSUM_female']"
      ],
      "metadata": {
        "id": "wWHKeNZZZCO6"
      },
      "execution_count": null,
      "outputs": []
    },
    {
      "cell_type": "code",
      "source": [
        "male_dialogue = data['wordsSUM_male']"
      ],
      "metadata": {
        "id": "tlt0gsJWZFpx"
      },
      "execution_count": null,
      "outputs": []
    },
    {
      "cell_type": "code",
      "source": [
        "t_statistic, p_value = stats.ttest_ind(female_dialogue, male_dialogue)"
      ],
      "metadata": {
        "id": "91yj6SN6ZIgj"
      },
      "execution_count": null,
      "outputs": []
    },
    {
      "cell_type": "code",
      "source": [
        "print(\"t-statistic:\", t_statistic)"
      ],
      "metadata": {
        "colab": {
          "base_uri": "https://localhost:8080/"
        },
        "id": "AHOp2062ZKzM",
        "outputId": "ded0460a-9ac7-4deb-e580-fce43a0a93ba"
      },
      "execution_count": null,
      "outputs": [
        {
          "output_type": "stream",
          "name": "stdout",
          "text": [
            "t-statistic: nan\n"
          ]
        }
      ]
    },
    {
      "cell_type": "code",
      "source": [
        "print(\"p-value:\", p_value)"
      ],
      "metadata": {
        "colab": {
          "base_uri": "https://localhost:8080/"
        },
        "id": "bopiiWhFZOue",
        "outputId": "7a897b8b-8ac1-4d29-e93a-3c1a6643d156"
      },
      "execution_count": null,
      "outputs": [
        {
          "output_type": "stream",
          "name": "stdout",
          "text": [
            "p-value: nan\n"
          ]
        }
      ]
    },
    {
      "cell_type": "code",
      "source": [
        "print(\"Data type of female_dialogue:\", female_dialogue.dtype)\n",
        "print(\"Data type of male_dialogue:\", male_dialogue.dtype)"
      ],
      "metadata": {
        "colab": {
          "base_uri": "https://localhost:8080/"
        },
        "id": "gvcSue4FZozt",
        "outputId": "a7704e9a-687b-41e4-8fb7-31945edacf4c"
      },
      "execution_count": null,
      "outputs": [
        {
          "output_type": "stream",
          "name": "stdout",
          "text": [
            "Data type of female_dialogue: float64\n",
            "Data type of male_dialogue: float64\n"
          ]
        }
      ]
    },
    {
      "cell_type": "code",
      "source": [
        "print(\"Summary statistics for female_dialogue:\")\n",
        "print(female_dialogue.describe())\n",
        "\n",
        "print(\"\\nSummary statistics for male_dialogue:\")\n",
        "print(male_dialogue.describe())\n"
      ],
      "metadata": {
        "colab": {
          "base_uri": "https://localhost:8080/"
        },
        "id": "PVjeA3FiZyOM",
        "outputId": "6d9acf51-86a7-4df9-ca60-a1b1a6669d51"
      },
      "execution_count": null,
      "outputs": [
        {
          "output_type": "stream",
          "name": "stdout",
          "text": [
            "Summary statistics for female_dialogue:\n",
            "count        73.000000\n",
            "mean      37302.452055\n",
            "std       71643.898505\n",
            "min           0.000000\n",
            "25%        1939.000000\n",
            "50%        8955.000000\n",
            "75%       32526.000000\n",
            "max      487319.000000\n",
            "Name: wordsSUM_female, dtype: float64\n",
            "\n",
            "Summary statistics for male_dialogue:\n",
            "count        73.000000\n",
            "mean      65900.123288\n",
            "std      111817.365480\n",
            "min           0.000000\n",
            "25%        7454.000000\n",
            "50%       21702.000000\n",
            "75%       71838.000000\n",
            "max      655611.000000\n",
            "Name: wordsSUM_male, dtype: float64\n"
          ]
        }
      ]
    },
    {
      "cell_type": "code",
      "source": [
        "print(\"Missing values in female_dialogue:\", female_dialogue.isnull().sum())\n",
        "print(\"Missing values in male_dialogue:\", male_dialogue.isnull().sum())\n"
      ],
      "metadata": {
        "colab": {
          "base_uri": "https://localhost:8080/"
        },
        "id": "FAwScGBnZ_gr",
        "outputId": "eb6bb2fb-ac9a-4e4a-8775-fa4359495825"
      },
      "execution_count": null,
      "outputs": [
        {
          "output_type": "stream",
          "name": "stdout",
          "text": [
            "Missing values in female_dialogue: 1\n",
            "Missing values in male_dialogue: 1\n"
          ]
        }
      ]
    },
    {
      "cell_type": "code",
      "source": [
        "data_cleaned = data.dropna(subset=['wordsSUM_female', 'wordsSUM_male'])"
      ],
      "metadata": {
        "id": "5WBSaf3IaSHL"
      },
      "execution_count": null,
      "outputs": []
    },
    {
      "cell_type": "code",
      "source": [
        "female_dialogue = data_cleaned['wordsSUM_female']\n",
        "male_dialogue = data_cleaned['wordsSUM_male']"
      ],
      "metadata": {
        "id": "sQ-nBKLeaV4b"
      },
      "execution_count": null,
      "outputs": []
    },
    {
      "cell_type": "code",
      "source": [
        "t_statistic, p_value = stats.ttest_ind(female_dialogue, male_dialogue)"
      ],
      "metadata": {
        "id": "fc2utP8VaY4K"
      },
      "execution_count": null,
      "outputs": []
    },
    {
      "cell_type": "code",
      "source": [
        "print(\"t-statistic:\", t_statistic)\n",
        "print(\"p-value:\", p_value)"
      ],
      "metadata": {
        "colab": {
          "base_uri": "https://localhost:8080/"
        },
        "id": "P_TtzcScadA_",
        "outputId": "d6eda38c-b2f6-43a3-b30b-7d21878ba6af"
      },
      "execution_count": null,
      "outputs": [
        {
          "output_type": "stream",
          "name": "stdout",
          "text": [
            "t-statistic: -1.8398923175144037\n",
            "p-value: 0.06784305051434622\n"
          ]
        }
      ]
    },
    {
      "cell_type": "code",
      "source": [
        "female_characters = data['numCharactersSUM_Female']"
      ],
      "metadata": {
        "id": "izCW1ic3b0zz"
      },
      "execution_count": null,
      "outputs": []
    },
    {
      "cell_type": "code",
      "source": [
        "male_characters = data['numCharactersSUM_Male']"
      ],
      "metadata": {
        "id": "68df413Eb6lZ"
      },
      "execution_count": null,
      "outputs": []
    },
    {
      "cell_type": "code",
      "source": [
        "print(\"Summary statistics for female_characters:\")\n",
        "print(female_characters.describe())\n",
        "\n",
        "print(\"\\nSummary statistics for male_characters:\")\n",
        "print(male_characters.describe())"
      ],
      "metadata": {
        "colab": {
          "base_uri": "https://localhost:8080/"
        },
        "id": "DFXS5yqPcGQS",
        "outputId": "dd504fc2-a373-480d-fb07-1589434ad667"
      },
      "execution_count": null,
      "outputs": [
        {
          "output_type": "stream",
          "name": "stdout",
          "text": [
            "Summary statistics for female_characters:\n",
            "count     73.000000\n",
            "mean      56.945205\n",
            "std       81.510546\n",
            "min        0.000000\n",
            "25%       10.000000\n",
            "50%       22.000000\n",
            "75%       76.000000\n",
            "max      412.000000\n",
            "Name: numCharactersSUM_Female, dtype: float64\n",
            "\n",
            "Summary statistics for male_characters:\n",
            "count     73.000000\n",
            "mean     133.109589\n",
            "std      183.822496\n",
            "min        0.000000\n",
            "25%       22.000000\n",
            "50%       49.000000\n",
            "75%      152.000000\n",
            "max      783.000000\n",
            "Name: numCharactersSUM_Male, dtype: float64\n"
          ]
        }
      ]
    },
    {
      "cell_type": "code",
      "source": [
        "t_statistic, p_value = stats.ttest_ind(female_characters, male_characters)"
      ],
      "metadata": {
        "id": "7YnvLy_vcc6K"
      },
      "execution_count": null,
      "outputs": []
    },
    {
      "cell_type": "code",
      "source": [
        "print(\"t-statistic:\", t_statistic)\n",
        "print(\"p-value:\", p_value)"
      ],
      "metadata": {
        "colab": {
          "base_uri": "https://localhost:8080/"
        },
        "id": "IUOLKinqcjtR",
        "outputId": "8a2ee532-bb7b-45a1-a991-4e5c2c2045da"
      },
      "execution_count": null,
      "outputs": [
        {
          "output_type": "stream",
          "name": "stdout",
          "text": [
            "t-statistic: nan\n",
            "p-value: nan\n"
          ]
        }
      ]
    },
    {
      "cell_type": "code",
      "source": [
        "print(\"Missing values in female_characters:\", female_characters.isnull().sum())\n",
        "print(\"Missing values in male_characters:\", male_characters.isnull().sum())"
      ],
      "metadata": {
        "colab": {
          "base_uri": "https://localhost:8080/"
        },
        "id": "UoBjzzUxcree",
        "outputId": "9095dfdc-95e7-4dd8-bcc6-9fa5812180fd"
      },
      "execution_count": null,
      "outputs": [
        {
          "output_type": "stream",
          "name": "stdout",
          "text": [
            "Missing values in female_characters: 1\n",
            "Missing values in male_characters: 1\n"
          ]
        }
      ]
    },
    {
      "cell_type": "code",
      "source": [
        "data_cleaned = data.dropna(subset=['numCharactersSUM_Female', 'numCharactersSUM_Male'])"
      ],
      "metadata": {
        "id": "ephcRSyzc2il"
      },
      "execution_count": null,
      "outputs": []
    },
    {
      "cell_type": "code",
      "source": [
        "female_characters = data_cleaned['numCharactersSUM_Female']\n",
        "male_characters = data_cleaned['numCharactersSUM_Male']"
      ],
      "metadata": {
        "id": "8Pyn5UgYdDPj"
      },
      "execution_count": null,
      "outputs": []
    },
    {
      "cell_type": "code",
      "source": [
        "t_statistic, p_value = stats.ttest_ind(female_characters, male_characters)"
      ],
      "metadata": {
        "id": "ynGJ9Ob9dnwC"
      },
      "execution_count": null,
      "outputs": []
    },
    {
      "cell_type": "code",
      "source": [
        "print(\"t-statistic:\", t_statistic)\n",
        "print(\"p-value:\", p_value)"
      ],
      "metadata": {
        "colab": {
          "base_uri": "https://localhost:8080/"
        },
        "id": "Hn1Al41edtFn",
        "outputId": "5a7bdad2-efd6-4a97-b4ca-ad9e164ceeb9"
      },
      "execution_count": null,
      "outputs": [
        {
          "output_type": "stream",
          "name": "stdout",
          "text": [
            "t-statistic: -3.2362075031526922\n",
            "p-value: 0.0015030545429220844\n"
          ]
        }
      ]
    },
    {
      "cell_type": "code",
      "source": [],
      "metadata": {
        "id": "egBq39OsemqU"
      },
      "execution_count": null,
      "outputs": []
    }
  ]
}