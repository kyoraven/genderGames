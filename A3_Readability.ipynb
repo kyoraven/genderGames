{
  "nbformat": 4,
  "nbformat_minor": 0,
  "metadata": {
    "colab": {
      "provenance": [],
      "authorship_tag": "ABX9TyOZij6kuhOY4TU2cZSz7Q/a",
      "include_colab_link": true
    },
    "kernelspec": {
      "name": "python3",
      "display_name": "Python 3"
    },
    "language_info": {
      "name": "python"
    }
  },
  "cells": [
    {
      "cell_type": "markdown",
      "metadata": {
        "id": "view-in-github",
        "colab_type": "text"
      },
      "source": [
        "<a href=\"https://colab.research.google.com/github/kyoraven/genderGames/blob/main/A3_Readability.ipynb\" target=\"_parent\"><img src=\"https://colab.research.google.com/assets/colab-badge.svg\" alt=\"Open In Colab\"/></a>"
      ]
    },
    {
      "cell_type": "code",
      "execution_count": 1,
      "metadata": {
        "id": "J5Q3sYrYnMLa"
      },
      "outputs": [],
      "source": [
        "import pandas as pd\n",
        "import matplotlib.pyplot as plt"
      ]
    },
    {
      "cell_type": "code",
      "source": [
        "df = pd.read_csv('genderPCgames_pythontest_v3.csv')"
      ],
      "metadata": {
        "id": "fRYzPk4EnfOB"
      },
      "execution_count": 2,
      "outputs": []
    },
    {
      "cell_type": "code",
      "source": [
        "average_female_score = df['FleschKincaidReadability_female'].mean()\n",
        "average_male_score = df['FleschKincaidReadability_male'].mean()"
      ],
      "metadata": {
        "id": "jDUPX4AyqY3j"
      },
      "execution_count": 3,
      "outputs": []
    },
    {
      "cell_type": "code",
      "source": [
        "print(\"Average FleschKincaidReadability_female score:\", average_female_score)\n",
        "print(\"Average FleschKincaidReadability_male score:\", average_male_score)"
      ],
      "metadata": {
        "colab": {
          "base_uri": "https://localhost:8080/"
        },
        "id": "2rBjXRYCqb-X",
        "outputId": "2bde2aa3-27e2-4d4f-99f9-78825249a650"
      },
      "execution_count": 4,
      "outputs": [
        {
          "output_type": "stream",
          "name": "stdout",
          "text": [
            "Average FleschKincaidReadability_female score: 0.18077800395522386\n",
            "Average FleschKincaidReadability_male score: 0.14972445128358214\n"
          ]
        }
      ]
    },
    {
      "cell_type": "code",
      "source": [
        "from scipy import stats\n",
        "import pandas as pd"
      ],
      "metadata": {
        "id": "sHIywaoXq0SX"
      },
      "execution_count": 5,
      "outputs": []
    },
    {
      "cell_type": "code",
      "source": [
        "female_scores = df['FleschKincaidReadability_female']\n",
        "male_scores = df['FleschKincaidReadability_male']"
      ],
      "metadata": {
        "id": "GbmPSql3q4JF"
      },
      "execution_count": 6,
      "outputs": []
    },
    {
      "cell_type": "code",
      "source": [
        "t_statistic, p_value = stats.ttest_ind(female_scores, male_scores)"
      ],
      "metadata": {
        "id": "c0DHjLD8q6l9"
      },
      "execution_count": 7,
      "outputs": []
    },
    {
      "cell_type": "code",
      "source": [
        "print(\"T-statistic:\", t_statistic)\n",
        "print(\"P-value:\", p_value)"
      ],
      "metadata": {
        "colab": {
          "base_uri": "https://localhost:8080/"
        },
        "id": "d8jBMweXq8_E",
        "outputId": "948e805c-6579-4925-d427-bea1822dd620"
      },
      "execution_count": 8,
      "outputs": [
        {
          "output_type": "stream",
          "name": "stdout",
          "text": [
            "T-statistic: nan\n",
            "P-value: nan\n"
          ]
        }
      ]
    },
    {
      "cell_type": "code",
      "source": [
        "print(df['FleschKincaidReadability_female'].dtype)\n",
        "print(df['FleschKincaidReadability_male'].dtype)"
      ],
      "metadata": {
        "colab": {
          "base_uri": "https://localhost:8080/"
        },
        "id": "IN6iv1t5rH4j",
        "outputId": "54766761-bf3d-4c08-aa51-82728f2b06ae"
      },
      "execution_count": 9,
      "outputs": [
        {
          "output_type": "stream",
          "name": "stdout",
          "text": [
            "float64\n",
            "float64\n"
          ]
        }
      ]
    },
    {
      "cell_type": "code",
      "source": [
        "import numpy as np\n",
        "print(np.isinf(df['FleschKincaidReadability_female']).sum())\n",
        "print(np.isinf(df['FleschKincaidReadability_male']).sum())"
      ],
      "metadata": {
        "colab": {
          "base_uri": "https://localhost:8080/"
        },
        "id": "px1eiq6PrPoB",
        "outputId": "d72bf709-10a2-4022-92e8-2a3b1d924a9e"
      },
      "execution_count": 10,
      "outputs": [
        {
          "output_type": "stream",
          "name": "stdout",
          "text": [
            "0\n",
            "0\n"
          ]
        }
      ]
    },
    {
      "cell_type": "code",
      "source": [
        "print(df['FleschKincaidReadability_female'].describe())\n",
        "print(df['FleschKincaidReadability_male'].describe())"
      ],
      "metadata": {
        "colab": {
          "base_uri": "https://localhost:8080/"
        },
        "id": "R93FCwnarSlf",
        "outputId": "5323b4b8-4a1d-4571-f9e6-3084c8c855a6"
      },
      "execution_count": 11,
      "outputs": [
        {
          "output_type": "stream",
          "name": "stdout",
          "text": [
            "count    67.000000\n",
            "mean      0.180778\n",
            "std       0.857851\n",
            "min      -1.015139\n",
            "25%      -0.450311\n",
            "50%       0.052114\n",
            "75%       0.534283\n",
            "max       2.873868\n",
            "Name: FleschKincaidReadability_female, dtype: float64\n",
            "count    67.000000\n",
            "mean      0.149724\n",
            "std       0.813337\n",
            "min      -0.894384\n",
            "25%      -0.408827\n",
            "50%       0.063113\n",
            "75%       0.503673\n",
            "max       3.114519\n",
            "Name: FleschKincaidReadability_male, dtype: float64\n"
          ]
        }
      ]
    },
    {
      "cell_type": "code",
      "source": [
        "t_statistic, p_value = stats.ttest_ind(female_scores, male_scores)"
      ],
      "metadata": {
        "id": "fa1lKg_Yrb8i"
      },
      "execution_count": 13,
      "outputs": []
    },
    {
      "cell_type": "code",
      "source": [
        "print(\"T-statistic:\", t_statistic)\n",
        "print(\"P-value:\", p_value)"
      ],
      "metadata": {
        "colab": {
          "base_uri": "https://localhost:8080/"
        },
        "id": "8bKTayGHrxlT",
        "outputId": "4aa48508-2b08-4482-a032-eae571072d4b"
      },
      "execution_count": 14,
      "outputs": [
        {
          "output_type": "stream",
          "name": "stdout",
          "text": [
            "T-statistic: nan\n",
            "P-value: nan\n"
          ]
        }
      ]
    },
    {
      "cell_type": "code",
      "source": [
        "female_scores = df['FleschKincaidReadability_female']"
      ],
      "metadata": {
        "id": "zzDdGMrUsRjn"
      },
      "execution_count": 17,
      "outputs": []
    },
    {
      "cell_type": "code",
      "source": [
        "male_scores = df['FleschKincaidReadability_male']"
      ],
      "metadata": {
        "id": "9XtLvgSisgno"
      },
      "execution_count": 18,
      "outputs": []
    },
    {
      "cell_type": "code",
      "source": [
        "df_cleaned = df.dropna(subset=['FleschKincaidReadability_female', 'FleschKincaidReadability_male'])"
      ],
      "metadata": {
        "id": "my8CFxAasC_d"
      },
      "execution_count": 19,
      "outputs": []
    },
    {
      "cell_type": "code",
      "source": [
        "female_scores = df_cleaned['FleschKincaidReadability_female']\n",
        "male_scores = df_cleaned['FleschKincaidReadability_male']"
      ],
      "metadata": {
        "id": "B571w2HLs2hp"
      },
      "execution_count": 20,
      "outputs": []
    },
    {
      "cell_type": "code",
      "source": [
        "t_statistic, p_value = stats.ttest_ind(female_scores, male_scores)"
      ],
      "metadata": {
        "id": "kZGJmcvntCBL"
      },
      "execution_count": 21,
      "outputs": []
    },
    {
      "cell_type": "code",
      "source": [
        "print(\"t-statistic:\", t_statistic)\n",
        "print(\"p-value:\", p_value)"
      ],
      "metadata": {
        "colab": {
          "base_uri": "https://localhost:8080/"
        },
        "id": "8rRG-3fCtH-3",
        "outputId": "275bcd6e-72fe-47b9-8a67-2074d9f6ac4b"
      },
      "execution_count": 22,
      "outputs": [
        {
          "output_type": "stream",
          "name": "stdout",
          "text": [
            "t-statistic: 0.21502279177705463\n",
            "p-value: 0.8300814057255834\n"
          ]
        }
      ]
    }
  ]
}