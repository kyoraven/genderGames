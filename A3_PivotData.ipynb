{
  "nbformat": 4,
  "nbformat_minor": 0,
  "metadata": {
    "colab": {
      "provenance": [],
      "authorship_tag": "ABX9TyMiyNHXeiOlkHEZ8zFsirOp",
      "include_colab_link": true
    },
    "kernelspec": {
      "name": "python3",
      "display_name": "Python 3"
    },
    "language_info": {
      "name": "python"
    }
  },
  "cells": [
    {
      "cell_type": "markdown",
      "metadata": {
        "id": "view-in-github",
        "colab_type": "text"
      },
      "source": [
        "<a href=\"https://colab.research.google.com/github/kyoraven/genderGames/blob/code/A3_PivotData.ipynb\" target=\"_parent\"><img src=\"https://colab.research.google.com/assets/colab-badge.svg\" alt=\"Open In Colab\"/></a>"
      ]
    },
    {
      "cell_type": "code",
      "execution_count": 11,
      "metadata": {
        "id": "ka-J5A5VzLY1"
      },
      "outputs": [],
      "source": [
        "import pandas as pd"
      ]
    },
    {
      "cell_type": "code",
      "source": [
        "df = pd.read_csv('generalStats_v1.csv')\n"
      ],
      "metadata": {
        "id": "PDwK4biqzu-z"
      },
      "execution_count": 12,
      "outputs": []
    },
    {
      "cell_type": "code",
      "source": [
        "pivot_table = df.pivot_table(index=['folder', 'game', 'series'], columns='group', values=['lines', 'words', 'sentences', 'syllables', 'FleschKincaidReadability', 'FleschReadability', 'DaleChallReadability', 'numCharacters'], aggfunc='sum')\n"
      ],
      "metadata": {
        "id": "enyDwWOEz5no"
      },
      "execution_count": 13,
      "outputs": []
    },
    {
      "cell_type": "code",
      "source": [
        "pivot_table.columns = ['_'.join(col) for col in pivot_table.columns.values]\n"
      ],
      "metadata": {
        "id": "Rpk1naJ4z_TP"
      },
      "execution_count": 14,
      "outputs": []
    },
    {
      "cell_type": "code",
      "source": [
        "pivot_table.reset_index(inplace=True)\n"
      ],
      "metadata": {
        "id": "AGjXBkqQ0Chw"
      },
      "execution_count": 15,
      "outputs": []
    },
    {
      "cell_type": "code",
      "source": [
        "pivot_table.to_csv('pivot_result.csv', index=False)\n"
      ],
      "metadata": {
        "id": "uHDdWFvF0F4o"
      },
      "execution_count": 16,
      "outputs": []
    }
  ]
}